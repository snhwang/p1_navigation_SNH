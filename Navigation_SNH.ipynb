{
 "cells": [
  {
   "cell_type": "markdown",
   "metadata": {},
   "source": [
    "# Navigation\n",
    "\n",
    "---\n",
    "\n",
    "In this notebook, you will learn how to use the Unity ML-Agents environment for the first project of the [Deep Reinforcement Learning Nanodegree](https://www.udacity.com/course/deep-reinforcement-learning-nanodegree--nd893).\n",
    "\n",
    "### 1. Start the Environment\n",
    "\n",
    "We begin by importing some necessary packages.  If the code cell below returns an error, please revisit the project instructions to double-check that you have installed [Unity ML-Agents](https://github.com/Unity-Technologies/ml-agents/blob/master/docs/Installation.md) and [NumPy](http://www.numpy.org/)."
   ]
  },
  {
   "cell_type": "code",
   "execution_count": 1,
   "metadata": {},
   "outputs": [],
   "source": [
    "from unityagents import UnityEnvironment\n",
    "import numpy as np\n",
    "import matplotlib.pyplot as plt\n",
    "import torch\n"
   ]
  },
  {
   "cell_type": "markdown",
   "metadata": {},
   "source": [
    "Next, we will start the environment!  **_Before running the code cell below_**, change the `file_name` parameter to match the location of the Unity environment that you downloaded.\n",
    "\n",
    "- **Mac**: `\"path/to/Banana.app\"`\n",
    "- **Windows** (x86): `\"path/to/Banana_Windows_x86/Banana.exe\"`\n",
    "- **Windows** (x86_64): `\"path/to/Banana_Windows_x86_64/Banana.exe\"`\n",
    "- **Linux** (x86): `\"path/to/Banana_Linux/Banana.x86\"`\n",
    "- **Linux** (x86_64): `\"path/to/Banana_Linux/Banana.x86_64\"`\n",
    "- **Linux** (x86, headless): `\"path/to/Banana_Linux_NoVis/Banana.x86\"`\n",
    "- **Linux** (x86_64, headless): `\"path/to/Banana_Linux_NoVis/Banana.x86_64\"`\n",
    "\n",
    "For instance, if you are using a Mac, then you downloaded `Banana.app`.  If this file is in the same folder as the notebook, then the line below should appear as follows:\n",
    "```\n",
    "env = UnityEnvironment(file_name=\"Banana.app\")\n",
    "```"
   ]
  },
  {
   "cell_type": "code",
   "execution_count": 2,
   "metadata": {},
   "outputs": [
    {
     "name": "stderr",
     "output_type": "stream",
     "text": [
      "INFO:unityagents:\n",
      "'Academy' started successfully!\n",
      "Unity Academy name: Academy\n",
      "        Number of Brains: 1\n",
      "        Number of External Brains : 1\n",
      "        Lesson number : 0\n",
      "        Reset Parameters :\n",
      "\t\t\n",
      "Unity brain name: BananaBrain\n",
      "        Number of Visual Observations (per agent): 0\n",
      "        Vector Observation space type: continuous\n",
      "        Vector Observation space size (per agent): 37\n",
      "        Number of stacked Vector Observation: 1\n",
      "        Vector Action space type: discrete\n",
      "        Vector Action space size (per agent): 4\n",
      "        Vector Action descriptions: , , , \n"
     ]
    }
   ],
   "source": [
    "env = UnityEnvironment(file_name=\"Banana_Windows_x86_64/Banana.exe\")"
   ]
  },
  {
   "cell_type": "markdown",
   "metadata": {},
   "source": [
    "Environments contain **_brains_** which are responsible for deciding the actions of their associated agents. Here we check for the first brain available, and set it as the default brain we will be controlling from Python."
   ]
  },
  {
   "cell_type": "code",
   "execution_count": 3,
   "metadata": {},
   "outputs": [],
   "source": [
    "# get the default brain\n",
    "brain_name = env.brain_names[0]\n",
    "brain = env.brains[brain_name]"
   ]
  },
  {
   "cell_type": "markdown",
   "metadata": {},
   "source": [
    "### 2. Examine the State and Action Spaces\n",
    "\n",
    "The simulation contains a single agent that navigates a large environment.  At each time step, it has four actions at its disposal:\n",
    "- `0` - walk forward \n",
    "- `1` - walk backward\n",
    "- `2` - turn left\n",
    "- `3` - turn right\n",
    "\n",
    "The state space has `37` dimensions and contains the agent's velocity, along with ray-based perception of objects around agent's forward direction.  A reward of `+1` is provided for collecting a yellow banana, and a reward of `-1` is provided for collecting a blue banana. \n",
    "\n",
    "Run the code cell below to print some information about the environment."
   ]
  },
  {
   "cell_type": "code",
   "execution_count": 4,
   "metadata": {},
   "outputs": [
    {
     "name": "stdout",
     "output_type": "stream",
     "text": [
      "Number of agents: 1\n",
      "Number of actions: 4\n",
      "States look like: [1.         0.         0.         0.         0.84408134 0.\n",
      " 0.         1.         0.         0.0748472  0.         1.\n",
      " 0.         0.         0.25755    1.         0.         0.\n",
      " 0.         0.74177343 0.         1.         0.         0.\n",
      " 0.25854847 0.         0.         1.         0.         0.09355672\n",
      " 0.         1.         0.         0.         0.31969345 0.\n",
      " 0.        ]\n",
      "States have length: 37\n",
      "<unityagents.brain.BrainInfo object at 0x0000023D3DD4F9E8>\n"
     ]
    }
   ],
   "source": [
    "# reset the environment\n",
    "env_info = env.reset(train_mode=True)[brain_name]\n",
    "\n",
    "# number of agents in the environment\n",
    "print('Number of agents:', len(env_info.agents))\n",
    "\n",
    "# number of actions\n",
    "action_size = brain.vector_action_space_size\n",
    "print('Number of actions:', action_size)\n",
    "\n",
    "# examine the state space \n",
    "state = env_info.vector_observations[0]\n",
    "print('States look like:', state)\n",
    "state_size = len(state)\n",
    "print('States have length:', state_size)\n",
    "\n",
    "print(env_info)"
   ]
  },
  {
   "cell_type": "markdown",
   "metadata": {},
   "source": [
    "### 3. Define the Function to Perform the Reinforcement Learning\n",
    "A checkpoint is saved as checkpoint13.pth when the agent achieves a score of 13 averaged over 100 episodes."
   ]
  },
  {
   "cell_type": "code",
   "execution_count": 5,
   "metadata": {},
   "outputs": [],
   "source": [
    "def dqn(\n",
    "    agent,\n",
    "    n_episodes=2000,\n",
    "    max_t=100000,\n",
    "    epsilon_initial = 1.0,\n",
    "    epsilon_final = 0.01,\n",
    "    epsilon_rate = 0.005,\n",
    "    gamma_initial = 0.9,\n",
    "    gamma_final = 0.99,\n",
    "    gamma_rate = 0.002,\n",
    "    beta_initial = 0.4,\n",
    "    beta_rate = 0.002,\n",
    "    tau_initial = 0.001,\n",
    "    tau_final = 0.1,\n",
    "    tau_rate = 0.00001\n",
    "    ):\n",
    "    \"\"\"\n",
    "    Deep Q-Learning.\n",
    "    n_episodes (int): Maximum number of training episodes\n",
    "    max_t (int): Maximum number of timesteps per episode\n",
    "    epsilon_initial (float): Initial value of epsilon for epsilon-greedy selection of an action\n",
    "    epsilon_final (float): Final value of epsilon\n",
    "    epsilon_rate (float): A rate (0.0 to 1.0) for decreasing epsilon for each episode. Higher is faster decay.\n",
    "    gamma_initial (float): Initial gamma discount factor (0 to 1). Higher values favor long term over current rewards.\n",
    "    gamma_final (float): Final gamma discount factor (0 to 1).\n",
    "    gammma_rate (float): A rate (0 to 1) for increasing gamma.\n",
    "    beta_initial (float): For prioritized replay. Corrects bias induced by weighted sampling of stored experiences.\n",
    "        The beta parameters have no effect if the agent has prioritized experience replay activated.\n",
    "    beta_rate (float): Rate (0 to 1) for increasing beta to 1 as per Schauel et al. https://arxiv.org/abs/1511.05952\n",
    "    tau_initial (float): Initial value for tau, the weighting factor for soft updating the neural network.\n",
    "        The tau parameters have no effect if the agent uses fixed Q targets instead of soft updating.\n",
    "    tau_final (float): Final value of tau.\n",
    "    tau_rate (float): Rate (0 to 1) for increasing tau each episode.\n",
    "    \n",
    "    \"\"\"\n",
    "    # List of scores for an episode\n",
    "    scores = []\n",
    "    \n",
    "    # Most recent 100 scores\n",
    "    scores_window = deque(maxlen=100)\n",
    "    \n",
    "    epsilon = epsilon_initial\n",
    "    epsilon_scale = 1.0 - epsilon_rate\n",
    " \n",
    "    # Set final gamma to the value suggested for prioritized replay in\n",
    "    # Schaul et al., Prioritized Replay, ICLR 2016, https://arxiv.org/abs/1511.05952\n",
    "    #gamma_final = 1.0 - 1.0 / state_size\n",
    "    gamma = gamma_initial\n",
    "    gamma_scale = 1.0 - gamma_rate\n",
    "    \n",
    "    beta = beta_initial\n",
    "    beta_scale = 1.0 - beta_rate\n",
    "    \n",
    "    tau = tau_initial\n",
    "    tau_scale = 1.0 - tau_rate\n",
    "    \n",
    "    count = 0\n",
    "    level1 = False\n",
    "    for i_episode in range(1, n_episodes+1):\n",
    "        # Reset environment\n",
    "        env_info = env.reset(train_mode=True)[brain_name]\n",
    "        \n",
    "        # Get next state\n",
    "        state = env_info.vector_observations[0]\n",
    "\n",
    "        t = 0\n",
    "        score = 0\n",
    "        while True:\n",
    "            count += 1\n",
    "            t += 1\n",
    "            \n",
    "            # Get action\n",
    "            action = agent.act(state, epsilon)\n",
    "            \n",
    "            # Send action to environment\n",
    "            env_info = env.step(action.astype(np.int32))[brain_name]\n",
    "            \n",
    "            # Get next state\n",
    "            next_state = env_info.vector_observations[0]\n",
    "                                                      \n",
    "            # Get reward\n",
    "            reward = env_info.rewards[0]\n",
    "            \n",
    "            # Check is episode finished\n",
    "            done = env_info.local_done[0]\n",
    "                                                                                     \n",
    "            agent.step(state, action, reward, next_state, done, gamma, beta, tau)\n",
    "            score += reward\n",
    "            state = next_state\n",
    "            \n",
    "            # Exit if episode finished\n",
    "            if done or t > max_t:\n",
    "                break\n",
    "                \n",
    "        scores_window.append(score)\n",
    "        scores.append(score)\n",
    "                                                      \n",
    "        # Decrease epsilon. Limit to epsilon_final.       \n",
    "        #epsilon = max(epsilon_final, epsilon_scale * epsilon)\n",
    "        epsilon = epsilon_final + epsilon_scale * (epsilon - epsilon_final)\n",
    "\n",
    "        # Increase gamma discount factor. Limit to gamma_final.\n",
    "        gamma = gamma_final - gamma_scale * (gamma_final - gamma)\n",
    "        \n",
    "        # Increase beta for prioritized experience replay. Gradually increases to 1.\n",
    "        if agent.prioritized_replay:\n",
    "            beta = 1.0 - beta_scale * (1.0 - beta)\n",
    "        \n",
    "        tau = tau_final - tau_scale * (tau_final - tau)\n",
    "        \n",
    "        print('\\rEpisode {}\\tAverage Score: {:.4f}\\tepsilon: {:.4f}\\tgamma: {:.4f}\\tbeta: {:.4f}\\ttau: {:.4f}'\n",
    "              .format(i_episode, np.mean(scores_window), epsilon, gamma, beta, tau), end=\"\")\n",
    "        if i_episode % scores_window.maxlen == 0:\n",
    "            print('\\rEpisode {}\\tAverage Score: {:.4f}'.format(i_episode, np.mean(scores_window)))\n",
    "            if not level1 and np.mean(scores_window) > 13:\n",
    "                level1 = True\n",
    "                print('\\rPassing score achieved in {:d} episodes!\\tAverage Score: {:.4f}'.format(i_episode, np.mean(scores_window)))\n",
    "                torch.save(agent.qnetwork_local.state_dict(), 'checkpoint13.pth')\n",
    "            if level1 and np.mean(scores_window) > 80:\n",
    "                print('\\rAverage score > 80 achieved in {:d} episodes!\\tAverage Score: {:.4f}'.format(i_episode, np.mean(scores_window)))\n",
    "                torch.save(agent.qnetwork_local.state_dict(), 'checkpoint80.pth')\n",
    "                break\n",
    "\n",
    "    return scores\n"
   ]
  },
  {
   "cell_type": "markdown",
   "metadata": {},
   "source": [
    "### 4. Declare the Learning Agent\n",
    "Agent has the following parameters:\n",
    "\n",
    "    state_size: Number of possible states in the environment\n",
    "    action_size: Number of possible actions\n",
    "    seed: For random number generation\n",
    "    target_update_interval (int): Interval for updating the neural network weights for fixed Q targets.\n",
    "        Set to a negative number to use soft updating instead. Default -1.\n",
    "    batch_normalize (boolean): Default False. True if batch normalization is used in the neural network\n",
    "    error_clipping (boolean): Default False. Set to True to limit the time difference error to between -1 and 1\n",
    "    reward_clipping (boolean): Default False. Set to True to limit the reward to betwen -1 and 1\n",
    "    gradient_clipping (boolean): Default False. Set to True to limit the size of the gradients to between -1 and 1\n",
    "    double_dqn (boolean): Default True. Flag to use double Q learning\n",
    "    dueling_dqn (boolean): Default True. Flag to use dueling Q networks\n",
    "    prioritized_replay (boolean): Default False. Flag for prioritized experience replay\n",
    "    learning_rate (float): initial learning rate"
   ]
  },
  {
   "cell_type": "code",
   "execution_count": 6,
   "metadata": {},
   "outputs": [
    {
     "name": "stdout",
     "output_type": "stream",
     "text": [
      "cuda:0\n"
     ]
    }
   ],
   "source": [
    "from collections import deque\n",
    "from dqn_agent import Agent, load_and_run_agent\n",
    "\n",
    "agent = Agent(\n",
    "    state_size=state_size,\n",
    "    action_size=action_size,\n",
    "    seed=0,\n",
    "    batch_normalize = False,\n",
    "    error_clipping = False,\n",
    "    reward_clipping = False,\n",
    "    gradient_clipping = False,\n",
    "    double_dqn = True,\n",
    "    prioritized_replay = True,\n",
    "    dueling_dqn = True,\n",
    "    learning_rate = 0.0005\n",
    ")"
   ]
  },
  {
   "cell_type": "markdown",
   "metadata": {},
   "source": [
    "### 5. Train the Learning Agent\n",
    "The resulting scores are stored and plotted."
   ]
  },
  {
   "cell_type": "code",
   "execution_count": 7,
   "metadata": {
    "scrolled": true
   },
   "outputs": [
    {
     "name": "stdout",
     "output_type": "stream",
     "text": [
      "Episode 100\tAverage Score: 1.0900\tepsilon: 0.6097\tgamma: 0.9571\tbeta: 0.6365\ttau: 0.0011\n",
      "Episode 200\tAverage Score: 4.4400\tepsilon: 0.3733\tgamma: 0.9779\tbeta: 0.7798\ttau: 0.0012\n",
      "Episode 300\tAverage Score: 7.1700\tepsilon: 0.2301\tgamma: 0.9856\tbeta: 0.8666\ttau: 0.0013\n",
      "Episode 400\tAverage Score: 9.4200\tepsilon: 0.1433\tgamma: 0.9884\tbeta: 0.9192\ttau: 0.0014\n",
      "Episode 500\tAverage Score: 12.3500\tepsilon: 0.0908\tgamma: 0.9894\tbeta: 0.9511\ttau: 0.0015\n",
      "Episode 600\tAverage Score: 13.7800\tepsilon: 0.0589\tgamma: 0.9898\tbeta: 0.9704\ttau: 0.0016\n",
      "Passing score achieved in 600 episodes!\tAverage Score: 13.7800\n",
      "Episode 700\tAverage Score: 14.4600\tepsilon: 0.0396\tgamma: 0.9899\tbeta: 0.9820\ttau: 0.0017\n",
      "Episode 800\tAverage Score: 15.0600\tepsilon: 0.0280\tgamma: 0.9900\tbeta: 0.9891\ttau: 0.0018\n",
      "Episode 900\tAverage Score: 14.6200\tepsilon: 0.0209\tgamma: 0.9900\tbeta: 0.9934\ttau: 0.0019\n",
      "Episode 1000\tAverage Score: 15.6900\tepsilon: 0.0166\tgamma: 0.9900\tbeta: 0.9960\ttau: 0.0020\n",
      "Episode 1100\tAverage Score: 15.1800\tepsilon: 0.0140\tgamma: 0.9900\tbeta: 0.9976\ttau: 0.0021\n",
      "Episode 1200\tAverage Score: 14.8400\tepsilon: 0.0124\tgamma: 0.9900\tbeta: 0.9985\ttau: 0.0022\n",
      "Episode 1300\tAverage Score: 15.5200\tepsilon: 0.0115\tgamma: 0.9900\tbeta: 0.9991\ttau: 0.0023\n",
      "Episode 1400\tAverage Score: 16.4800\tepsilon: 0.0109\tgamma: 0.9900\tbeta: 0.9995\ttau: 0.0024\n",
      "Episode 1500\tAverage Score: 15.8600\tepsilon: 0.0105\tgamma: 0.9900\tbeta: 0.9997\ttau: 0.0025\n",
      "Episode 1600\tAverage Score: 16.5800\tepsilon: 0.0103\tgamma: 0.9900\tbeta: 0.9998\ttau: 0.0026\n",
      "Episode 1700\tAverage Score: 16.8500\tepsilon: 0.0102\tgamma: 0.9900\tbeta: 0.9999\ttau: 0.0027\n",
      "Episode 1800\tAverage Score: 14.5900\tepsilon: 0.0101\tgamma: 0.9900\tbeta: 0.9999\ttau: 0.0028\n",
      "Episode 1900\tAverage Score: 16.0500\tepsilon: 0.0101\tgamma: 0.9900\tbeta: 1.0000\ttau: 0.0029\n",
      "Episode 2000\tAverage Score: 15.7300\tepsilon: 0.0100\tgamma: 0.9900\tbeta: 1.0000\ttau: 0.0030\n",
      "Episode 2100\tAverage Score: 15.7900\tepsilon: 0.0100\tgamma: 0.9900\tbeta: 1.0000\ttau: 0.0031\n",
      "Episode 2200\tAverage Score: 16.8400\tepsilon: 0.0100\tgamma: 0.9900\tbeta: 1.0000\ttau: 0.0032\n",
      "Episode 2300\tAverage Score: 16.3400\tepsilon: 0.0100\tgamma: 0.9900\tbeta: 1.0000\ttau: 0.0033\n",
      "Episode 2400\tAverage Score: 15.8700\tepsilon: 0.0100\tgamma: 0.9900\tbeta: 1.0000\ttau: 0.0033\n",
      "Episode 2500\tAverage Score: 16.5300\tepsilon: 0.0100\tgamma: 0.9900\tbeta: 1.0000\ttau: 0.0034\n",
      "Episode 2600\tAverage Score: 16.9700\tepsilon: 0.0100\tgamma: 0.9900\tbeta: 1.0000\ttau: 0.0035\n",
      "Episode 2700\tAverage Score: 16.8300\tepsilon: 0.0100\tgamma: 0.9900\tbeta: 1.0000\ttau: 0.0036\n",
      "Episode 2800\tAverage Score: 16.6700\tepsilon: 0.0100\tgamma: 0.9900\tbeta: 1.0000\ttau: 0.0037\n",
      "Episode 2900\tAverage Score: 16.0100\tepsilon: 0.0100\tgamma: 0.9900\tbeta: 1.0000\ttau: 0.0038\n",
      "Episode 3000\tAverage Score: 15.8500\tepsilon: 0.0100\tgamma: 0.9900\tbeta: 1.0000\ttau: 0.0039\n",
      "Episode 3100\tAverage Score: 16.0700\tepsilon: 0.0100\tgamma: 0.9900\tbeta: 1.0000\ttau: 0.0040\n",
      "Episode 3200\tAverage Score: 16.2800\tepsilon: 0.0100\tgamma: 0.9900\tbeta: 1.0000\ttau: 0.0041\n",
      "Episode 3300\tAverage Score: 15.9900\tepsilon: 0.0100\tgamma: 0.9900\tbeta: 1.0000\ttau: 0.0042\n",
      "Episode 3400\tAverage Score: 16.8100\tepsilon: 0.0100\tgamma: 0.9900\tbeta: 1.0000\ttau: 0.0043\n",
      "Episode 3500\tAverage Score: 18.0000\tepsilon: 0.0100\tgamma: 0.9900\tbeta: 1.0000\ttau: 0.0044\n",
      "Episode 3600\tAverage Score: 17.9000\tepsilon: 0.0100\tgamma: 0.9900\tbeta: 1.0000\ttau: 0.0045\n",
      "Episode 3700\tAverage Score: 17.8500\tepsilon: 0.0100\tgamma: 0.9900\tbeta: 1.0000\ttau: 0.0046\n",
      "Episode 3800\tAverage Score: 17.5700\tepsilon: 0.0100\tgamma: 0.9900\tbeta: 1.0000\ttau: 0.0047\n",
      "Episode 3900\tAverage Score: 17.3700\tepsilon: 0.0100\tgamma: 0.9900\tbeta: 1.0000\ttau: 0.0048\n",
      "Episode 4000\tAverage Score: 17.4900\tepsilon: 0.0100\tgamma: 0.9900\tbeta: 1.0000\ttau: 0.0049\n",
      "Episode 4100\tAverage Score: 16.9800\tepsilon: 0.0100\tgamma: 0.9900\tbeta: 1.0000\ttau: 0.0050\n",
      "Episode 4200\tAverage Score: 17.1100\tepsilon: 0.0100\tgamma: 0.9900\tbeta: 1.0000\ttau: 0.0051\n",
      "Episode 4300\tAverage Score: 17.1900\tepsilon: 0.0100\tgamma: 0.9900\tbeta: 1.0000\ttau: 0.0052\n",
      "Episode 4400\tAverage Score: 18.0800\tepsilon: 0.0100\tgamma: 0.9900\tbeta: 1.0000\ttau: 0.0053\n",
      "Episode 4500\tAverage Score: 17.7000\tepsilon: 0.0100\tgamma: 0.9900\tbeta: 1.0000\ttau: 0.0054\n",
      "Episode 4600\tAverage Score: 18.1400\tepsilon: 0.0100\tgamma: 0.9900\tbeta: 1.0000\ttau: 0.0055\n",
      "Episode 4700\tAverage Score: 17.3100\tepsilon: 0.0100\tgamma: 0.9900\tbeta: 1.0000\ttau: 0.0055\n",
      "Episode 4800\tAverage Score: 18.1700\tepsilon: 0.0100\tgamma: 0.9900\tbeta: 1.0000\ttau: 0.0056\n",
      "Episode 4900\tAverage Score: 17.9500\tepsilon: 0.0100\tgamma: 0.9900\tbeta: 1.0000\ttau: 0.0057\n",
      "Episode 5000\tAverage Score: 17.9100\tepsilon: 0.0100\tgamma: 0.9900\tbeta: 1.0000\ttau: 0.0058\n"
     ]
    },
    {
     "data": {
      "image/png": "[encoded data removed]",
      "text/plain": [
       "<Figure size 432x288 with 1 Axes>"
      ]
     },
     "metadata": {},
     "output_type": "display_data"
    }
   ],
   "source": [
    "scores = dqn(\n",
    "    agent,\n",
    "    n_episodes = 5000,\n",
    "    epsilon_initial = 1.0,\n",
    "    epsilon_final = 0.01,\n",
    "    epsilon_rate = 0.005,\n",
    "    gamma_initial = 0.90,\n",
    "    gamma_final = 0.99,\n",
    "    gamma_rate = 0.01,\n",
    "    beta_initial = 0.4,\n",
    "    beta_rate = 0.005,\n",
    "    tau_initial = 0.001,\n",
    "    tau_final = 0.1,\n",
    "    tau_rate = 0.00001\n",
    ")\n",
    "\n",
    "# plot the scores\n",
    "fig = plt.figure()\n",
    "ax = fig.add_subplot(111)\n",
    "plt.plot(np.arange(len(scores)), scores)\n",
    "plt.ylabel('Score')\n",
    "plt.xlabel('Episode #')\n",
    "plt.show()"
   ]
  },
  {
   "cell_type": "markdown",
   "metadata": {},
   "source": [
    "### 6. Save the Trained Agent\n",
    "Another checkpoint is saved after all the training has been completed."
   ]
  },
  {
   "cell_type": "code",
   "execution_count": 8,
   "metadata": {},
   "outputs": [],
   "source": [
    " torch.save(agent.qnetwork_local.state_dict(), 'checkpoint13_buffer1e6_every4_tau.pth')"
   ]
  },
  {
   "cell_type": "markdown",
   "metadata": {},
   "source": [
    "### 7. Run the Trained Agent\n",
    "The trained agent is run for 3 episodes and the score for each episode is printed."
   ]
  },
  {
   "cell_type": "code",
   "execution_count": 9,
   "metadata": {},
   "outputs": [
    {
     "name": "stdout",
     "output_type": "stream",
     "text": [
      "Score: 18.0\n",
      "Score: 20.0\n",
      "Score: 20.0\n",
      "Score: 14.0\n",
      "Score: 17.0\n",
      "Score: 18.0\n",
      "Score: 18.0\n",
      "Score: 18.0\n",
      "Score: 17.0\n",
      "Score: 18.0\n",
      "Score: 20.0\n",
      "Score: 17.0\n",
      "Score: 18.0\n",
      "Score: 17.0\n",
      "Score: 14.0\n",
      "Score: 19.0\n",
      "Score: 19.0\n",
      "Score: 17.0\n",
      "Score: 20.0\n",
      "Score: 20.0\n",
      "Score: 20.0\n",
      "Score: 20.0\n",
      "Score: 17.0\n",
      "Score: 17.0\n",
      "Score: 18.0\n",
      "Score: 18.0\n",
      "Score: 20.0\n",
      "Score: 12.0\n",
      "Score: 22.0\n",
      "Score: 17.0\n",
      "Score: 16.0\n",
      "Score: 15.0\n",
      "Score: 17.0\n",
      "Score: 19.0\n",
      "Score: 23.0\n",
      "Score: 18.0\n",
      "Score: 19.0\n",
      "Score: 23.0\n",
      "Score: 15.0\n",
      "Score: 17.0\n",
      "Score: 18.0\n",
      "Score: 17.0\n",
      "Score: 19.0\n",
      "Score: 17.0\n",
      "Score: 21.0\n",
      "Score: 17.0\n",
      "Score: 13.0\n",
      "Score: 14.0\n",
      "Score: 24.0\n",
      "Score: 20.0\n",
      "Score: 16.0\n",
      "Score: 23.0\n",
      "Score: 21.0\n",
      "Score: 11.0\n",
      "Score: 20.0\n",
      "Score: 16.0\n",
      "Score: 21.0\n",
      "Score: 19.0\n",
      "Score: 14.0\n",
      "Score: 19.0\n",
      "Score: 19.0\n",
      "Score: 18.0\n",
      "Score: 18.0\n",
      "Score: 14.0\n",
      "Score: 18.0\n",
      "Score: 20.0\n",
      "Score: 21.0\n",
      "Score: 17.0\n",
      "Score: 21.0\n",
      "Score: 20.0\n",
      "Score: 19.0\n",
      "Score: 16.0\n",
      "Score: 21.0\n",
      "Score: 19.0\n",
      "Score: 20.0\n",
      "Score: 22.0\n",
      "Score: 20.0\n",
      "Score: 12.0\n",
      "Score: 20.0\n",
      "Score: 13.0\n",
      "Score: 14.0\n",
      "Score: 20.0\n",
      "Score: 7.0\n",
      "Score: 17.0\n",
      "Score: 20.0\n",
      "Score: 18.0\n",
      "Score: 14.0\n",
      "Score: 18.0\n",
      "Score: 17.0\n",
      "Score: 20.0\n",
      "Score: 17.0\n",
      "Score: 21.0\n",
      "Score: 17.0\n",
      "Score: 19.0\n",
      "Score: 18.0\n",
      "Score: 15.0\n",
      "Score: 14.0\n",
      "Score: 15.0\n",
      "Score: 27.0\n",
      "Score: 23.0\n",
      "Average Score: 18.01\n"
     ]
    }
   ],
   "source": [
    "load_and_run_agent(agent, env, 'checkpoint_final_buffer1e6_every4_tau', 100)"
   ]
  },
  {
   "cell_type": "markdown",
   "metadata": {},
   "source": [
    "When finished, you can close the environment."
   ]
  },
  {
   "cell_type": "code",
   "execution_count": 10,
   "metadata": {},
   "outputs": [],
   "source": [
    "env.close()"
   ]
  },
  {
   "cell_type": "code",
   "execution_count": null,
   "metadata": {},
   "outputs": [],
   "source": []
  },
  {
   "cell_type": "code",
   "execution_count": null,
   "metadata": {},
   "outputs": [],
   "source": []
  }
 ],
 "metadata": {
  "kernelspec": {
   "display_name": "drlnd",
   "language": "python",
   "name": "drlnd"
  },
  "language_info": {
   "codemirror_mode": {
    "name": "ipython",
    "version": 3
   },
   "file_extension": ".py",
   "mimetype": "text/x-python",
   "name": "python",
   "nbconvert_exporter": "python",
   "pygments_lexer": "ipython3",
   "version": "3.6.6"
  }
 },
 "nbformat": 4,
 "nbformat_minor": 2
}
